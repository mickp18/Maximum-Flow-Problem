{
 "cells": [
  {
   "cell_type": "markdown",
   "metadata": {},
   "source": [
    "# Code for preprocessing of a graph dataset"
   ]
  },
  {
   "cell_type": "markdown",
   "metadata": {},
   "source": [
    "## FORMAT of INPUT and OUTPUT files \n",
    " \n",
    "- INPUT FILE FORMAT: \n",
    " \n",
    "    ``` \n",
    "    #nodes \n",
    "    node01 node02 weight \n",
    "    ``` \n",
    " \n",
    "    ... \n",
    " \n",
    "- OUTPUT FILE FORMAT: \n",
    " \n",
    "    ``` \n",
    "    #nodes \n",
    "    node01-1 node02-1 weight \n",
    "    ``` \n",
    " \n",
    "    ..."
   ]
  },
  {
   "cell_type": "markdown",
   "metadata": {},
   "source": [
    "### For every forward edge A-B, cancel the corresponding backward edge B-A (if it exists):"
   ]
  },
  {
   "cell_type": "code",
   "execution_count": 1,
   "metadata": {},
   "outputs": [],
   "source": [
    "import networkx as nx\n",
    "import matplotlib.pyplot as plt\n",
    "from networkx.drawing.nx_agraph import to_agraph\n",
    "import random"
   ]
  },
  {
   "cell_type": "code",
   "execution_count": 2,
   "metadata": {},
   "outputs": [],
   "source": [
    "inputFileName = \"../inputs/airports_8000.txt\" \n",
    "# inputFileName = \"../inputs/airports_1500.txt\" \n",
    "outputFileName = \"../inputs/airports_8000_directed.txt\" \n",
    "# outputFileName = \"../inputs/airports_1500_directed.txt\" \n",
    " \n",
    "# inputFileNameDirected =  outputFileName \n",
    "inputFileNameDirected =  \"../inputs/airports_8000_directed_normalized.txt\" \n",
    "# outputFileNameDAG = \"../inputs/airports_8000_dag.txt\" \n",
    "outputFileNameDAG = \"../dag.txt\" \n",
    "# outputFileNameDAG = \"../inputs/airports_1500_dag.txt\" \n",
    "# n = 10000= 100000\n"
   ]
  },
  {
   "cell_type": "code",
   "execution_count": 108,
   "metadata": {},
   "outputs": [],
   "source": [
    "# function to check the number of nodes (labels of nodes are not consecutive)\n",
    "def countNodes(fileName):\n",
    "    fin = open(fileName, \"r\")\n",
    "    numNodes = fin.readline().strip()\n",
    "    \n",
    "    # lst = [\" \" for i in range(int(numNodes))]\n",
    "    lst = [\" \" for i in range(n)]\n",
    "\n",
    "    for line in fin:\n",
    "        vals = line.strip().split()\n",
    "        lst[int(vals[0])-1] = \"*\"\n",
    "        lst[int(vals[1])-1] = \"*\"\n",
    "\n",
    "    cnt = 0\n",
    "    for i in range(len(lst)):\n",
    "        if lst[i] == \"*\":\n",
    "            cnt +=1\n",
    "    print(f\"Number of nodes in graph from {fileName}: \", cnt)"
   ]
  },
  {
   "cell_type": "code",
   "execution_count": 109,
   "metadata": {},
   "outputs": [],
   "source": [
    "# for every edge A-B, remove backward edge B-A (if it exist)\n",
    "fin = open(inputFileName, \"r\")\n",
    "fout = open(outputFileName, \"w\")\n",
    "\n",
    "countNodes(inputFileName)\n",
    "d = dict()\n",
    "fout.write(\"                  \\n\")\n",
    "\n",
    "first = fin.readline()\n",
    "for line in fin:\n",
    "    val = line.strip().split()\n",
    "    # check if key in dictionary and if val in list of key \n",
    "    if not (val[1] in d and val[0] in d[val[1]]):\n",
    "        fout.write(f\"{int(val[0]) - 1} {int(val[1]) - 1} {int(val[2])}\\n\")        \n",
    "        if (val[0] not in d):   \n",
    "            d[val[0]] = []\n",
    "        d[val[0]].append(val[1])\n",
    "\n",
    "fin.close()\n",
    "fout.close()\n",
    "\n",
    "fout = open(outputFileName, \"r+\")\n",
    "fout.write(f\"{len(d)}\")\n",
    "print(d.keys())\n",
    "fout.flush()\n",
    "\n",
    "fout.close()\n",
    "countNodes(outputFileName)\n",
    "\n"
   ]
  },
  {
   "cell_type": "markdown",
   "metadata": {},
   "source": [
    "- Node enumeration starting from 1\n",
    "\n",
    "input file: nodes start from 0\n",
    "\n",
    "output file: nodes start from 1\n",
    "* useful to generate input file with dataset to be tested with Matlab's max flow algorithm"
   ]
  },
  {
   "cell_type": "code",
   "execution_count": null,
   "metadata": {},
   "outputs": [],
   "source": [
    "# generate output file with node values from 1 onwards\n",
    "\n",
    "fin = open(inputFileName, \"r\")\n",
    "fout = open(outputFileName, \"w\")\n",
    "\n",
    "line = fin.readline()\n",
    "fout.write(line)\n",
    "\n",
    "for line in fin:\n",
    "    vals = line.split()\n",
    "    vals[0] = int(vals[0]) + 1\n",
    "    vals[1] = int(vals[1]) + 1\n",
    "    fout.write(str(vals[0]) + \" \" + str(vals[1]) + \" \" + vals[2] + \"\\n\")\n",
    "\n",
    "fin.close()\n",
    "fout.close()"
   ]
  },
  {
   "cell_type": "markdown",
   "metadata": {},
   "source": [
    "Clear cycles from the graph"
   ]
  },
  {
   "cell_type": "code",
   "execution_count": 5,
   "metadata": {},
   "outputs": [],
   "source": [
    "def graph_from_file(filename):\n",
    "    G = nx.DiGraph()    # G is a directed graph\n",
    "    with open(filename) as f:\n",
    "        line = f.readline()\n",
    "        for line in f:\n",
    "            node1, node2, weight = line.split()\n",
    "            G.add_edge(node1, node2, capacity=int(weight))\n",
    "    return G"
   ]
  },
  {
   "cell_type": "code",
   "execution_count": null,
   "metadata": {},
   "outputs": [],
   "source": [
    "def remove_cycle(G):\n",
    "    # Find a cycle in the graph\n",
    "    cycle = nx.find_cycle(G)\n",
    "    # print(f\"Cycle found: {cycle}\")\n",
    "    \n",
    "    # Remove one edge from the cycle to break it\n",
    "    node1 = cycle[0][0]\n",
    "    node2 = cycle[0][1]\n",
    "    G.remove_edge(node1, node2)\n",
    "    # print(f\"Removed edge: {node1}, {node2}\")\n",
    "\n",
    "    return G\n",
    "\n",
    "def main():\n",
    "\n",
    "    G = graph_from_file(inputFileNameDirected)\n",
    "    fout = open(outputFileNameDAG, \"w\")\n",
    "       \n",
    "    # check if the directed graph is acyclic, i.e. if it is a DAG\n",
    "    isDag = nx.is_directed_acyclic_graph(G)\n",
    "    print(\"The graph is DAG:\", isDag)\n",
    "    print(\"Number of edges:\", G.number_of_edges())\n",
    "    print(\"Number of nodes:\", G.number_of_nodes())\n",
    "    countNodes(inputFileNameDirected)\n",
    "\n",
    "    # if not acyclic (i.e. there is at least 1 cycle), remove all cycle(s)\n",
    "    while not isDag:\n",
    "        G = remove_cycle(G)\n",
    "        isDag = nx.is_directed_acyclic_graph(G)\n",
    "\n",
    "    print(\"The graph is DAG:\", isDag)\n",
    "    print(\"Number of edges:\", G.number_of_edges())\n",
    "    print(\"Number of nodes:\", G.number_of_nodes())\n",
    "    fout.write(f\"{G.number_of_nodes()}\\n\")\n",
    "    # print(f\"{G.number_of_nodes()}\")\n",
    "    for edge in G.edges():\n",
    "         fout.write(f\"{edge[0]} {edge[1]} {G[edge[0]][edge[1]]['capacity']}\\n\")\n",
    "        # print(f\"{edge[0]} {edge[1]} {G[edge[0]][edge[1]]['capacity']}\\n\")\n",
    "    \n",
    "    fout.close()\n",
    "    countNodes(outputFileNameDAG)\n",
    "    \n",
    "main()"
   ]
  },
  {
   "cell_type": "code",
   "execution_count": 44,
   "metadata": {},
   "outputs": [],
   "source": [
    "graph = graph_from_file(outputFileNameDAG)\n",
    "source = \"46\"\n",
    "sink = \"0\""
   ]
  },
  {
   "cell_type": "markdown",
   "metadata": {},
   "source": [
    "### check if path exists between source and sink"
   ]
  },
  {
   "cell_type": "code",
   "execution_count": 10,
   "metadata": {},
   "outputs": [],
   "source": [
    "def is_path_between_source_sink(g, src, snk):\n",
    "    return bool(nx.has_path(g, src, snk))"
   ]
  },
  {
   "cell_type": "markdown",
   "metadata": {},
   "source": [
    "### check if source has only outgoing edges"
   ]
  },
  {
   "cell_type": "code",
   "execution_count": 4,
   "metadata": {},
   "outputs": [],
   "source": [
    "def can_be_source(g, s):\n",
    "    incoming_edges = list(g.in_edges(s)) # returns all edges with provided node as target node\n",
    "                             # if there are no edges incoming in the node, it can be a source\n",
    "    if not incoming_edges:\n",
    "        return True\n",
    "    return False"
   ]
  },
  {
   "cell_type": "markdown",
   "metadata": {},
   "source": [
    "### check if sink has only incoming edges"
   ]
  },
  {
   "cell_type": "code",
   "execution_count": 8,
   "metadata": {},
   "outputs": [],
   "source": [
    "def can_be_sink(g, s):\n",
    "    outgoing_edges = list(g.edges(s)) # finds all the edges with provided node as source\n",
    "    if not outgoing_edges:                    # if there are no edges, the node can be a sink\n",
    "        return True\n",
    "    return False"
   ]
  },
  {
   "cell_type": "markdown",
   "metadata": {},
   "source": [
    "### Find maximum flow of certain graph"
   ]
  },
  {
   "cell_type": "code",
   "execution_count": 15,
   "metadata": {},
   "outputs": [],
   "source": [
    "graph = graph_from_file(outputFileNameDAG)"
   ]
  },
  {
   "cell_type": "code",
   "execution_count": 17,
   "metadata": {},
   "outputs": [
    {
     "name": "stdout",
     "output_type": "stream",
     "text": [
      "0 can be source? True\n",
      "6999 can be sink? True\n",
      "Is there a path between 0 and 6999? Yes :D\n"
     ]
    }
   ],
   "source": [
    "source = \"0\"\n",
    "sink = \"6999\"\n",
    "is_source = can_be_source(graph, source)\n",
    "is_sink = can_be_sink(graph, sink)\n",
    "print(f\"{source} can be source? {is_source}\")\n",
    "print(f\"{sink} can be sink? {is_sink}\")\n",
    "if is_source and is_sink:\n",
    "    print(f\"Is there a path between {source} and {sink}? {'Yes :D' if is_path_between_source_sink(graph, source, sink) else 'No :('}\")\n"
   ]
  },
  {
   "cell_type": "markdown",
   "metadata": {},
   "source": [
    "### Compute maximum flow between source and sink"
   ]
  },
  {
   "cell_type": "code",
   "execution_count": 18,
   "metadata": {},
   "outputs": [
    {
     "name": "stdout",
     "output_type": "stream",
     "text": [
      "Maximum flow between 0 and 6999: 1\n"
     ]
    }
   ],
   "source": [
    "flow = nx.maximum_flow(graph,source,sink)[0]\n",
    "print(f\"Maximum flow between {source} and {sink}: {str(flow)}\")"
   ]
  },
  {
   "cell_type": "code",
   "execution_count": 14,
   "metadata": {},
   "outputs": [
    {
     "name": "stdout",
     "output_type": "stream",
     "text": [
      "Found 156204 valid paths\n"
     ]
    }
   ],
   "source": [
    "lst_sources = []\n",
    "lst_sinks = []\n",
    "lst_paths = []\n",
    "sk = graph.number_of_nodes()\n",
    "for i in range(0,sk,1):\n",
    "    if can_be_source(graph, str(i)):\n",
    "        lst_sources.append(str(i))\n",
    "for i in range(sk, -1, -1):\n",
    "    if can_be_sink(graph, str(i)):\n",
    "        lst_sinks.append(str(i))\n",
    "for source in lst_sources: \n",
    "    for sink in lst_sinks:\n",
    "        if is_path_between_source_sink(graph, source, sink):\n",
    "            lst_paths.append((source, sink))\n",
    "print(f\"Found {len(lst_paths)} valid paths\")"
   ]
  },
  {
   "cell_type": "code",
   "execution_count": null,
   "metadata": {},
   "outputs": [],
   "source": [
    "for (source, sink) in lst_paths:\n",
    "    if source != sink:\n",
    "        flow = nx.maximum_flow(graph,source,sink)[0]\n",
    "        if flow > 1:\n",
    "            print(f\"Maximum flow between {source} and {sink}: {str(flow)}\")"
   ]
  },
  {
   "cell_type": "markdown",
   "metadata": {},
   "source": [
    "NORMALIZE NOTATION OF NODES IN A FILE\n",
    "\n",
    "In a graph with N nodes with random non-consecutive labels, after the preprocessing, have all nodes with consecutove labels:\n",
    "- start from node 0\n",
    "- all nodes have consecutive labels\n",
    "- the last node has a label=N-1"
   ]
  },
  {
   "cell_type": "code",
   "execution_count": 104,
   "metadata": {},
   "outputs": [
    {
     "name": "stdout",
     "output_type": "stream",
     "text": [
      "# nodes: 2939\n",
      "ok, index i = 2939\n"
     ]
    }
   ],
   "source": [
    "# ifN = \"../inputs/airports_1500_dag.txt\"\n",
    "ifN = \"../inputs/airports_8000_directed.txt\"\n",
    "# ofN = \"../inputs/airports_1500_dag_normalized.txt\"\n",
    "ofN = \"../inputs/airports_8000_directed_normalized.txt\"\n",
    "\n",
    "def readList(fName):\n",
    "    fin = open(ifN, \"r\")\n",
    "    first = fin.readline()\n",
    "    lst = [-1 for i in range(10000)]\n",
    "    for line in fin:\n",
    "        vals = line.strip().split()\n",
    "        lst[int(vals[0])] = int(vals[0])\n",
    "        lst[int(vals[1])] = int(vals[1])\n",
    "    fin.close()\n",
    "    return lst\n",
    "\n",
    "lst = readList(ifN)\n",
    "cnt=0\n",
    "for i in range(10000):\n",
    "    if lst[i] != -1:\n",
    "        cnt+=1\n",
    "print(\"# nodes:\", cnt)\n",
    "\n",
    "lab = 0\n",
    "for i in range(10000):\n",
    "    if lst[i] != -1:\n",
    "        lst[i] = lab\n",
    "        lab+=1\n",
    "\n",
    "fin = open(ifN, \"r\")\n",
    "fout = open(ofN, \"w\")\n",
    "fout.write(f\"{cnt}\\n\")\n",
    "first = fin.readline()\n",
    "for line in fin:\n",
    "    vals = line.strip().split()\n",
    "    # print(lst[int(vals[0])-1], lst[int(vals[1])-1], int(vals[2]))\n",
    "    fout.write(f\"{lst[int(vals[0])]} {lst[int(vals[1])]} {int(vals[2])}\\n\")\n",
    "fin.close()\n",
    "fout.close()\n",
    "\n",
    "fin = open(ofN, \"r\")\n",
    "n_nodes = int(fin.readline())\n",
    "lst3 = [\"*\" for i in range(n_nodes)]\n",
    "for line in fin:\n",
    "    vals = line.strip().split()\n",
    "    lst3[int(vals[0])] = \"ok\"\n",
    "    lst3[int(vals[1])] = \"ok\"\n",
    "fin.close()\n",
    "\n",
    "ok = True\n",
    "i=0\n",
    "while i<cnt and ok:\n",
    "    if lst3[i] != \"ok\":\n",
    "        ok = False\n",
    "    else:\n",
    "        i+=1\n",
    "if ok:\n",
    "    print(f\"ok, index i = {i}\")\n",
    "else:\n",
    "    print(f\"not ok, index i = {i}\")\n",
    "# print(lst3)"
   ]
  }
 ],
 "metadata": {
  "kernelspec": {
   "display_name": "Python 3",
   "language": "python",
   "name": "python3"
  },
  "language_info": {
   "codemirror_mode": {
    "name": "ipython",
    "version": 3
   },
   "file_extension": ".py",
   "mimetype": "text/x-python",
   "name": "python",
   "nbconvert_exporter": "python",
   "pygments_lexer": "ipython3",
   "version": "3.10.12"
  }
 },
 "nbformat": 4,
 "nbformat_minor": 2
}
