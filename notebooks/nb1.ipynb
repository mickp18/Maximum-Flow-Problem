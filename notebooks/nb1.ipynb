{
 "cells": [
  {
   "cell_type": "markdown",
   "metadata": {},
   "source": [
    "# Code for preprocessing of a graph dataset"
   ]
  },
  {
   "cell_type": "markdown",
   "metadata": {},
   "source": [
    "## FORMAT of INPUT and OUTPUT files \n",
    " \n",
    "- INPUT FILE FORMAT: \n",
    " \n",
    "    ``` \n",
    "    #nodes \n",
    "    node01 node02 weight \n",
    "    ``` \n",
    " \n",
    "    ... \n",
    " \n",
    "- OUTPUT FILE FORMAT: \n",
    " \n",
    "    ``` \n",
    "    #nodes \n",
    "    node01-1 node02-1 weight \n",
    "    ``` \n",
    " \n",
    "    ..."
   ]
  },
  {
   "cell_type": "markdown",
   "metadata": {},
   "source": [
    "### For every forward edge A-B, cancel the corresponding backward edge B-A (if it exists):"
   ]
  },
  {
   "cell_type": "code",
   "execution_count": 11,
   "metadata": {},
   "outputs": [],
   "source": [
    "import networkx as nx\n",
    "import matplotlib.pyplot as plt\n",
    "from networkx.drawing.nx_agraph import to_agraph\n",
    "import random"
   ]
  },
  {
   "cell_type": "code",
   "execution_count": 12,
   "metadata": {},
   "outputs": [],
   "source": [
    "inputFileName = \"../dag.txt\"\n",
    "# inputFileName = \"../inputs/airports_1500.txt\" \n",
    "outputFileName = \"../inputs/airports_8000_directed.txt\" \n",
    "# outputFileName = \"../inputs/airports_1500_directed.txt\" \n",
    " \n",
    "# inputFileNameDirected =  outputFileName \n",
    "inputFileNameDirected =  \"../inputs/airports_8000_directed_normalized.txt\" \n",
    "# outputFileNameDAG = \"../inputs/airports_8000_dag.txt\" \n",
    "outputFileNameDAG = \"../dag.txt\" \n",
    "# outputFileNameDAG = \"../inputs/airports_1500_dag.txt\" \n",
    "# n = 10000= 100000\n"
   ]
  },
  {
   "cell_type": "code",
   "execution_count": 13,
   "metadata": {},
   "outputs": [],
   "source": [
    "# function to check the number of nodes (labels of nodes are not consecutive)\n",
    "def countNodes(fileName):\n",
    "    fin = open(fileName, \"r\")\n",
    "    numNodes = fin.readline().strip()\n",
    "    \n",
    "    # lst = [\" \" for i in range(int(numNodes))]\n",
    "    lst = [\" \" for i in range(n)]\n",
    "\n",
    "    for line in fin:\n",
    "        vals = line.strip().split()\n",
    "        lst[int(vals[0])-1] = \"*\"\n",
    "        lst[int(vals[1])-1] = \"*\"\n",
    "\n",
    "    cnt = 0\n",
    "    for i in range(len(lst)):\n",
    "        if lst[i] == \"*\":\n",
    "            cnt +=1\n",
    "    print(f\"Number of nodes in graph from {fileName}: \", cnt)"
   ]
  },
  {
   "cell_type": "code",
   "execution_count": 14,
   "metadata": {},
   "outputs": [
    {
     "ename": "NameError",
     "evalue": "name 'n' is not defined",
     "output_type": "error",
     "traceback": [
      "\u001b[0;31m---------------------------------------------------------------------------\u001b[0m",
      "\u001b[0;31mNameError\u001b[0m                                 Traceback (most recent call last)",
      "Cell \u001b[0;32mIn[14], line 5\u001b[0m\n\u001b[1;32m      2\u001b[0m fin \u001b[38;5;241m=\u001b[39m \u001b[38;5;28mopen\u001b[39m(inputFileName, \u001b[38;5;124m\"\u001b[39m\u001b[38;5;124mr\u001b[39m\u001b[38;5;124m\"\u001b[39m)\n\u001b[1;32m      3\u001b[0m fout \u001b[38;5;241m=\u001b[39m \u001b[38;5;28mopen\u001b[39m(outputFileName, \u001b[38;5;124m\"\u001b[39m\u001b[38;5;124mw\u001b[39m\u001b[38;5;124m\"\u001b[39m)\n\u001b[0;32m----> 5\u001b[0m \u001b[43mcountNodes\u001b[49m\u001b[43m(\u001b[49m\u001b[43minputFileName\u001b[49m\u001b[43m)\u001b[49m\n\u001b[1;32m      6\u001b[0m d \u001b[38;5;241m=\u001b[39m \u001b[38;5;28mdict\u001b[39m()\n\u001b[1;32m      7\u001b[0m fout\u001b[38;5;241m.\u001b[39mwrite(\u001b[38;5;124m\"\u001b[39m\u001b[38;5;124m                  \u001b[39m\u001b[38;5;130;01m\\n\u001b[39;00m\u001b[38;5;124m\"\u001b[39m)\n",
      "Cell \u001b[0;32mIn[13], line 7\u001b[0m, in \u001b[0;36mcountNodes\u001b[0;34m(fileName)\u001b[0m\n\u001b[1;32m      4\u001b[0m numNodes \u001b[38;5;241m=\u001b[39m fin\u001b[38;5;241m.\u001b[39mreadline()\u001b[38;5;241m.\u001b[39mstrip()\n\u001b[1;32m      6\u001b[0m \u001b[38;5;66;03m# lst = [\" \" for i in range(int(numNodes))]\u001b[39;00m\n\u001b[0;32m----> 7\u001b[0m lst \u001b[38;5;241m=\u001b[39m [\u001b[38;5;124m\"\u001b[39m\u001b[38;5;124m \u001b[39m\u001b[38;5;124m\"\u001b[39m \u001b[38;5;28;01mfor\u001b[39;00m i \u001b[38;5;129;01min\u001b[39;00m \u001b[38;5;28mrange\u001b[39m(\u001b[43mn\u001b[49m)]\n\u001b[1;32m      9\u001b[0m \u001b[38;5;28;01mfor\u001b[39;00m line \u001b[38;5;129;01min\u001b[39;00m fin:\n\u001b[1;32m     10\u001b[0m     vals \u001b[38;5;241m=\u001b[39m line\u001b[38;5;241m.\u001b[39mstrip()\u001b[38;5;241m.\u001b[39msplit()\n",
      "\u001b[0;31mNameError\u001b[0m: name 'n' is not defined"
     ]
    }
   ],
   "source": [
    "# for every edge A-B, remove backward edge B-A (if it exist)\n",
    "fin = open(inputFileName, \"r\")\n",
    "fout = open(outputFileName, \"w\")\n",
    "\n",
    "countNodes(inputFileName)\n",
    "d = dict()\n",
    "fout.write(\"                  \\n\")\n",
    "\n",
    "first = fin.readline()\n",
    "for line in fin:\n",
    "    val = line.strip().split()\n",
    "    # check if key in dictionary and if val in list of key \n",
    "    if not (val[1] in d and val[0] in d[val[1]]):\n",
    "        fout.write(f\"{int(val[0]) - 1} {int(val[1]) - 1} {int(val[2])}\\n\")        \n",
    "        if (val[0] not in d):   \n",
    "            d[val[0]] = []\n",
    "        d[val[0]].append(val[1])\n",
    "\n",
    "fin.close()\n",
    "fout.close()\n",
    "\n",
    "fout = open(outputFileName, \"r+\")\n",
    "fout.write(f\"{len(d)}\")\n",
    "print(d.keys())\n",
    "fout.flush()\n",
    "\n",
    "fout.close()\n",
    "countNodes(outputFileName)\n",
    "\n"
   ]
  },
  {
   "cell_type": "markdown",
   "metadata": {},
   "source": [
    "- Node enumeration starting from 1\n",
    "\n",
    "input file: nodes start from 0\n",
    "\n",
    "output file: nodes start from 1\n",
    "* useful to generate input file with dataset to be tested with Matlab's max flow algorithm"
   ]
  },
  {
   "cell_type": "code",
   "execution_count": null,
   "metadata": {},
   "outputs": [],
   "source": [
    "# generate output file with node values from 1 onwards\n",
    "\n",
    "fin = open(inputFileName, \"r\")\n",
    "fout = open(outputFileName, \"w\")\n",
    "\n",
    "line = fin.readline()\n",
    "fout.write(line)\n",
    "\n",
    "for line in fin:\n",
    "    vals = line.split()\n",
    "    vals[0] = int(vals[0]) + 1\n",
    "    vals[1] = int(vals[1]) + 1\n",
    "    fout.write(str(vals[0]) + \" \" + str(vals[1]) + \" \" + vals[2] + \"\\n\")\n",
    "\n",
    "fin.close()\n",
    "fout.close()"
   ]
  },
  {
   "cell_type": "markdown",
   "metadata": {},
   "source": [
    "Clear cycles from the graph"
   ]
  },
  {
   "cell_type": "code",
   "execution_count": null,
   "metadata": {},
   "outputs": [],
   "source": [
    "def graph_from_file(filename):\n",
    "    G = nx.DiGraph()    # G is a directed graph\n",
    "    with open(filename) as f:\n",
    "        line = f.readline()\n",
    "        for line in f:\n",
    "            node1, node2, weight = line.split()\n",
    "            G.add_edge(node1, node2, capacity=int(weight))\n",
    "    return G"
   ]
  },
  {
   "cell_type": "code",
   "execution_count": null,
   "metadata": {},
   "outputs": [],
   "source": [
    "def remove_cycle(G):\n",
    "    # Find a cycle in the graph\n",
    "    cycle = nx.find_cycle(G)\n",
    "    # print(f\"Cycle found: {cycle}\")\n",
    "    \n",
    "    # Remove one edge from the cycle to break it\n",
    "    node1 = cycle[0][0]\n",
    "    node2 = cycle[0][1]\n",
    "    G.remove_edge(node1, node2)\n",
    "    # print(f\"Removed edge: {node1}, {node2}\")\n",
    "\n",
    "    return G\n",
    "\n",
    "def main():\n",
    "\n",
    "    G = graph_from_file(inputFileNameDirected)\n",
    "    fout = open(outputFileNameDAG, \"w\")\n",
    "       \n",
    "    # check if the directed graph is acyclic, i.e. if it is a DAG\n",
    "    isDag = nx.is_directed_acyclic_graph(G)\n",
    "    print(\"The graph is DAG:\", isDag)\n",
    "    print(\"Number of edges:\", G.number_of_edges())\n",
    "    print(\"Number of nodes:\", G.number_of_nodes())\n",
    "    countNodes(inputFileNameDirected)\n",
    "\n",
    "    # if not acyclic (i.e. there is at least 1 cycle), remove all cycle(s)\n",
    "    while not isDag:\n",
    "        G = remove_cycle(G)\n",
    "        isDag = nx.is_directed_acyclic_graph(G)\n",
    "\n",
    "    print(\"The graph is DAG:\", isDag)\n",
    "    print(\"Number of edges:\", G.number_of_edges())\n",
    "    print(\"Number of nodes:\", G.number_of_nodes())\n",
    "    fout.write(f\"{G.number_of_nodes()}\\n\")\n",
    "    # print(f\"{G.number_of_nodes()}\")\n",
    "    for edge in G.edges():\n",
    "         fout.write(f\"{edge[0]} {edge[1]} {G[edge[0]][edge[1]]['capacity']}\\n\")\n",
    "        # print(f\"{edge[0]} {edge[1]} {G[edge[0]][edge[1]]['capacity']}\\n\")\n",
    "    \n",
    "    fout.close()\n",
    "    countNodes(outputFileNameDAG)\n",
    "    \n",
    "main()"
   ]
  },
  {
   "cell_type": "code",
   "execution_count": null,
   "metadata": {},
   "outputs": [
    {
     "ename": "NameError",
     "evalue": "name 'graph_from_file' is not defined",
     "output_type": "error",
     "traceback": [
      "\u001b[0;31m---------------------------------------------------------------------------\u001b[0m",
      "\u001b[0;31mNameError\u001b[0m                                 Traceback (most recent call last)",
      "Cell \u001b[0;32mIn[3], line 1\u001b[0m\n\u001b[0;32m----> 1\u001b[0m graph \u001b[38;5;241m=\u001b[39m \u001b[43mgraph_from_file\u001b[49m(outputFileNameDAG)\n\u001b[1;32m      2\u001b[0m source \u001b[38;5;241m=\u001b[39m \u001b[38;5;124m\"\u001b[39m\u001b[38;5;124m46\u001b[39m\u001b[38;5;124m\"\u001b[39m\n\u001b[1;32m      3\u001b[0m sink \u001b[38;5;241m=\u001b[39m \u001b[38;5;124m\"\u001b[39m\u001b[38;5;124m0\u001b[39m\u001b[38;5;124m\"\u001b[39m\n",
      "\u001b[0;31mNameError\u001b[0m: name 'graph_from_file' is not defined"
     ]
    }
   ],
   "source": [
    "graph = graph_from_file(outputFileNameDAG)\n",
    "source = \"46\"\n",
    "sink = \"0\""
   ]
  },
  {
   "cell_type": "markdown",
   "metadata": {},
   "source": [
    "### check if path exists between source and sink"
   ]
  },
  {
   "cell_type": "code",
   "execution_count": null,
   "metadata": {},
   "outputs": [],
   "source": [
    "def is_path_between_source_sink(g, src, snk):\n",
    "    return bool(nx.has_path(g, src, snk))"
   ]
  },
  {
   "cell_type": "markdown",
   "metadata": {},
   "source": [
    "### check if source has only outgoing edges"
   ]
  },
  {
   "cell_type": "code",
   "execution_count": null,
   "metadata": {},
   "outputs": [],
   "source": [
    "def can_be_source(g, s):\n",
    "    incoming_edges = list(g.in_edges(s)) # returns all edges with provided node as target node\n",
    "                             # if there are no edges incoming in the node, it can be a source\n",
    "    if not incoming_edges:\n",
    "        return True\n",
    "    return False"
   ]
  },
  {
   "cell_type": "markdown",
   "metadata": {},
   "source": [
    "### check if sink has only incoming edges"
   ]
  },
  {
   "cell_type": "code",
   "execution_count": null,
   "metadata": {},
   "outputs": [],
   "source": [
    "def can_be_sink(g, s):\n",
    "    outgoing_edges = list(g.edges(s)) # finds all the edges with provided node as source\n",
    "    if not outgoing_edges:                    # if there are no edges, the node can be a sink\n",
    "        return True\n",
    "    return False"
   ]
  },
  {
   "cell_type": "markdown",
   "metadata": {},
   "source": [
    "### Find maximum flow of certain graph"
   ]
  },
  {
   "cell_type": "code",
   "execution_count": null,
   "metadata": {},
   "outputs": [],
   "source": [
    "graph = graph_from_file(inputFileName)"
   ]
  },
  {
   "cell_type": "code",
   "execution_count": null,
   "metadata": {},
   "outputs": [],
   "source": [
    "source = \"0\"\n",
    "sink = \"999\""
   ]
  },
  {
   "cell_type": "code",
   "execution_count": null,
   "metadata": {},
   "outputs": [
    {
     "ename": "NameError",
     "evalue": "name 'can_be_sink' is not defined",
     "output_type": "error",
     "traceback": [
      "\u001b[0;31m---------------------------------------------------------------------------\u001b[0m",
      "\u001b[0;31mNameError\u001b[0m                                 Traceback (most recent call last)",
      "Cell \u001b[0;32mIn[16], line 4\u001b[0m\n\u001b[1;32m      2\u001b[0m sink \u001b[38;5;241m=\u001b[39m \u001b[38;5;124m\"\u001b[39m\u001b[38;5;124m6999\u001b[39m\u001b[38;5;124m\"\u001b[39m\n\u001b[1;32m      3\u001b[0m \u001b[38;5;66;03m# is_source = can_be_source(graph, source)\u001b[39;00m\n\u001b[0;32m----> 4\u001b[0m is_sink \u001b[38;5;241m=\u001b[39m \u001b[43mcan_be_sink\u001b[49m(graph, sink)\n\u001b[1;32m      5\u001b[0m \u001b[38;5;28mprint\u001b[39m(\u001b[38;5;124mf\u001b[39m\u001b[38;5;124m\"\u001b[39m\u001b[38;5;132;01m{\u001b[39;00msource\u001b[38;5;132;01m}\u001b[39;00m\u001b[38;5;124m can be source? \u001b[39m\u001b[38;5;132;01m{\u001b[39;00mis_source\u001b[38;5;132;01m}\u001b[39;00m\u001b[38;5;124m\"\u001b[39m)\n\u001b[1;32m      6\u001b[0m \u001b[38;5;28mprint\u001b[39m(\u001b[38;5;124mf\u001b[39m\u001b[38;5;124m\"\u001b[39m\u001b[38;5;132;01m{\u001b[39;00msink\u001b[38;5;132;01m}\u001b[39;00m\u001b[38;5;124m can be sink? \u001b[39m\u001b[38;5;132;01m{\u001b[39;00mis_sink\u001b[38;5;132;01m}\u001b[39;00m\u001b[38;5;124m\"\u001b[39m)\n",
      "\u001b[0;31mNameError\u001b[0m: name 'can_be_sink' is not defined"
     ]
    }
   ],
   "source": [
    "\n",
    "# is_source = can_be_source(graph, source)\n",
    "is_sink = can_be_sink(graph, sink)\n",
    "print(f\"{source} can be source? {is_source}\")\n",
    "print(f\"{sink} can be sink? {is_sink}\")\n",
    "if is_source and is_sink:\n",
    "    print(f\"Is there a path between {source} and {sink}? {'Yes :D' if is_path_between_source_sink(graph, source, sink) else 'No :('}\")\n"
   ]
  },
  {
   "cell_type": "markdown",
   "metadata": {},
   "source": [
    "### Compute maximum flow between source and sink"
   ]
  },
  {
   "cell_type": "code",
   "execution_count": 18,
   "metadata": {},
   "outputs": [
    {
     "ename": "NetworkXError",
     "evalue": "node 6999 not in graph",
     "output_type": "error",
     "traceback": [
      "\u001b[0;31m---------------------------------------------------------------------------\u001b[0m",
      "\u001b[0;31mNetworkXError\u001b[0m                             Traceback (most recent call last)",
      "Cell \u001b[0;32mIn[18], line 1\u001b[0m\n\u001b[0;32m----> 1\u001b[0m flow \u001b[38;5;241m=\u001b[39m \u001b[43mnx\u001b[49m\u001b[38;5;241;43m.\u001b[39;49m\u001b[43mmaximum_flow\u001b[49m\u001b[43m(\u001b[49m\u001b[43mgraph\u001b[49m\u001b[43m,\u001b[49m\u001b[43msource\u001b[49m\u001b[43m,\u001b[49m\u001b[43msink\u001b[49m\u001b[43m)\u001b[49m[\u001b[38;5;241m0\u001b[39m]\n\u001b[1;32m      2\u001b[0m \u001b[38;5;28mprint\u001b[39m(\u001b[38;5;124mf\u001b[39m\u001b[38;5;124m\"\u001b[39m\u001b[38;5;124mMaximum flow between \u001b[39m\u001b[38;5;132;01m{\u001b[39;00msource\u001b[38;5;132;01m}\u001b[39;00m\u001b[38;5;124m and \u001b[39m\u001b[38;5;132;01m{\u001b[39;00msink\u001b[38;5;132;01m}\u001b[39;00m\u001b[38;5;124m: \u001b[39m\u001b[38;5;132;01m{\u001b[39;00m\u001b[38;5;28mstr\u001b[39m(flow)\u001b[38;5;132;01m}\u001b[39;00m\u001b[38;5;124m\"\u001b[39m)\n",
      "File \u001b[0;32m~/.local/lib/python3.10/site-packages/networkx/utils/decorators.py:788\u001b[0m, in \u001b[0;36margmap.__call__.<locals>.func\u001b[0;34m(_argmap__wrapper, *args, **kwargs)\u001b[0m\n\u001b[1;32m    787\u001b[0m \u001b[38;5;28;01mdef\u001b[39;00m \u001b[38;5;21mfunc\u001b[39m(\u001b[38;5;241m*\u001b[39margs, __wrapper\u001b[38;5;241m=\u001b[39m\u001b[38;5;28;01mNone\u001b[39;00m, \u001b[38;5;241m*\u001b[39m\u001b[38;5;241m*\u001b[39mkwargs):\n\u001b[0;32m--> 788\u001b[0m     \u001b[38;5;28;01mreturn\u001b[39;00m \u001b[43margmap\u001b[49m\u001b[38;5;241;43m.\u001b[39;49m\u001b[43m_lazy_compile\u001b[49m\u001b[43m(\u001b[49m\u001b[43m__wrapper\u001b[49m\u001b[43m)\u001b[49m\u001b[43m(\u001b[49m\u001b[38;5;241;43m*\u001b[39;49m\u001b[43margs\u001b[49m\u001b[43m,\u001b[49m\u001b[43m \u001b[49m\u001b[38;5;241;43m*\u001b[39;49m\u001b[38;5;241;43m*\u001b[39;49m\u001b[43mkwargs\u001b[49m\u001b[43m)\u001b[49m\n",
      "File \u001b[0;32m<class 'networkx.utils.decorators.argmap'> compilation 4:3\u001b[0m, in \u001b[0;36margmap_maximum_flow_1\u001b[0;34m(flowG, _s, _t, capacity, flow_func, backend, **kwargs)\u001b[0m\n\u001b[1;32m      1\u001b[0m \u001b[38;5;28;01mimport\u001b[39;00m \u001b[38;5;21;01mbz2\u001b[39;00m\n\u001b[1;32m      2\u001b[0m \u001b[38;5;28;01mimport\u001b[39;00m \u001b[38;5;21;01mcollections\u001b[39;00m\n\u001b[0;32m----> 3\u001b[0m \u001b[38;5;28;01mimport\u001b[39;00m \u001b[38;5;21;01mgzip\u001b[39;00m\n\u001b[1;32m      4\u001b[0m \u001b[38;5;28;01mimport\u001b[39;00m \u001b[38;5;21;01minspect\u001b[39;00m\n\u001b[1;32m      5\u001b[0m \u001b[38;5;28;01mimport\u001b[39;00m \u001b[38;5;21;01mitertools\u001b[39;00m\n",
      "File \u001b[0;32m~/.local/lib/python3.10/site-packages/networkx/utils/backends.py:967\u001b[0m, in \u001b[0;36m_dispatchable.__call__\u001b[0;34m(self, backend, *args, **kwargs)\u001b[0m\n\u001b[1;32m    965\u001b[0m     \u001b[38;5;28;01mif\u001b[39;00m backend \u001b[38;5;129;01mis\u001b[39;00m \u001b[38;5;129;01mnot\u001b[39;00m \u001b[38;5;28;01mNone\u001b[39;00m \u001b[38;5;129;01mand\u001b[39;00m backend \u001b[38;5;241m!=\u001b[39m \u001b[38;5;124m\"\u001b[39m\u001b[38;5;124mnetworkx\u001b[39m\u001b[38;5;124m\"\u001b[39m:\n\u001b[1;32m    966\u001b[0m         \u001b[38;5;28;01mraise\u001b[39;00m \u001b[38;5;167;01mImportError\u001b[39;00m(\u001b[38;5;124mf\u001b[39m\u001b[38;5;124m\"\u001b[39m\u001b[38;5;124m'\u001b[39m\u001b[38;5;132;01m{\u001b[39;00mbackend\u001b[38;5;132;01m}\u001b[39;00m\u001b[38;5;124m'\u001b[39m\u001b[38;5;124m backend is not installed\u001b[39m\u001b[38;5;124m\"\u001b[39m)\n\u001b[0;32m--> 967\u001b[0m     \u001b[38;5;28;01mreturn\u001b[39;00m \u001b[38;5;28;43mself\u001b[39;49m\u001b[38;5;241;43m.\u001b[39;49m\u001b[43morig_func\u001b[49m\u001b[43m(\u001b[49m\u001b[38;5;241;43m*\u001b[39;49m\u001b[43margs\u001b[49m\u001b[43m,\u001b[49m\u001b[43m \u001b[49m\u001b[38;5;241;43m*\u001b[39;49m\u001b[38;5;241;43m*\u001b[39;49m\u001b[43mkwargs\u001b[49m\u001b[43m)\u001b[49m\n\u001b[1;32m    969\u001b[0m \u001b[38;5;66;03m# Use `backend_name` in this function instead of `backend`.\u001b[39;00m\n\u001b[1;32m    970\u001b[0m \u001b[38;5;66;03m# This is purely for aesthetics and to make it easier to search for this\u001b[39;00m\n\u001b[1;32m    971\u001b[0m \u001b[38;5;66;03m# variable since \"backend\" is used in many comments and log/error messages.\u001b[39;00m\n\u001b[1;32m    972\u001b[0m backend_name \u001b[38;5;241m=\u001b[39m backend\n",
      "File \u001b[0;32m~/.local/lib/python3.10/site-packages/networkx/algorithms/flow/maxflow.py:161\u001b[0m, in \u001b[0;36mmaximum_flow\u001b[0;34m(flowG, _s, _t, capacity, flow_func, **kwargs)\u001b[0m\n\u001b[1;32m    158\u001b[0m \u001b[38;5;28;01mif\u001b[39;00m \u001b[38;5;129;01mnot\u001b[39;00m \u001b[38;5;28mcallable\u001b[39m(flow_func):\n\u001b[1;32m    159\u001b[0m     \u001b[38;5;28;01mraise\u001b[39;00m nx\u001b[38;5;241m.\u001b[39mNetworkXError(\u001b[38;5;124m\"\u001b[39m\u001b[38;5;124mflow_func has to be callable.\u001b[39m\u001b[38;5;124m\"\u001b[39m)\n\u001b[0;32m--> 161\u001b[0m R \u001b[38;5;241m=\u001b[39m \u001b[43mflow_func\u001b[49m\u001b[43m(\u001b[49m\u001b[43mflowG\u001b[49m\u001b[43m,\u001b[49m\u001b[43m \u001b[49m\u001b[43m_s\u001b[49m\u001b[43m,\u001b[49m\u001b[43m \u001b[49m\u001b[43m_t\u001b[49m\u001b[43m,\u001b[49m\u001b[43m \u001b[49m\u001b[43mcapacity\u001b[49m\u001b[38;5;241;43m=\u001b[39;49m\u001b[43mcapacity\u001b[49m\u001b[43m,\u001b[49m\u001b[43m \u001b[49m\u001b[43mvalue_only\u001b[49m\u001b[38;5;241;43m=\u001b[39;49m\u001b[38;5;28;43;01mFalse\u001b[39;49;00m\u001b[43m,\u001b[49m\u001b[43m \u001b[49m\u001b[38;5;241;43m*\u001b[39;49m\u001b[38;5;241;43m*\u001b[39;49m\u001b[43mkwargs\u001b[49m\u001b[43m)\u001b[49m\n\u001b[1;32m    162\u001b[0m flow_dict \u001b[38;5;241m=\u001b[39m build_flow_dict(flowG, R)\n\u001b[1;32m    164\u001b[0m \u001b[38;5;28;01mreturn\u001b[39;00m (R\u001b[38;5;241m.\u001b[39mgraph[\u001b[38;5;124m\"\u001b[39m\u001b[38;5;124mflow_value\u001b[39m\u001b[38;5;124m\"\u001b[39m], flow_dict)\n",
      "File \u001b[0;32m~/.local/lib/python3.10/site-packages/networkx/utils/decorators.py:788\u001b[0m, in \u001b[0;36margmap.__call__.<locals>.func\u001b[0;34m(_argmap__wrapper, *args, **kwargs)\u001b[0m\n\u001b[1;32m    787\u001b[0m \u001b[38;5;28;01mdef\u001b[39;00m \u001b[38;5;21mfunc\u001b[39m(\u001b[38;5;241m*\u001b[39margs, __wrapper\u001b[38;5;241m=\u001b[39m\u001b[38;5;28;01mNone\u001b[39;00m, \u001b[38;5;241m*\u001b[39m\u001b[38;5;241m*\u001b[39mkwargs):\n\u001b[0;32m--> 788\u001b[0m     \u001b[38;5;28;01mreturn\u001b[39;00m \u001b[43margmap\u001b[49m\u001b[38;5;241;43m.\u001b[39;49m\u001b[43m_lazy_compile\u001b[49m\u001b[43m(\u001b[49m\u001b[43m__wrapper\u001b[49m\u001b[43m)\u001b[49m\u001b[43m(\u001b[49m\u001b[38;5;241;43m*\u001b[39;49m\u001b[43margs\u001b[49m\u001b[43m,\u001b[49m\u001b[43m \u001b[49m\u001b[38;5;241;43m*\u001b[39;49m\u001b[38;5;241;43m*\u001b[39;49m\u001b[43mkwargs\u001b[49m\u001b[43m)\u001b[49m\n",
      "File \u001b[0;32m<class 'networkx.utils.decorators.argmap'> compilation 8:3\u001b[0m, in \u001b[0;36margmap_preflow_push_5\u001b[0;34m(G, s, t, capacity, residual, global_relabel_freq, value_only, backend, **backend_kwargs)\u001b[0m\n\u001b[1;32m      1\u001b[0m \u001b[38;5;28;01mimport\u001b[39;00m \u001b[38;5;21;01mbz2\u001b[39;00m\n\u001b[1;32m      2\u001b[0m \u001b[38;5;28;01mimport\u001b[39;00m \u001b[38;5;21;01mcollections\u001b[39;00m\n\u001b[0;32m----> 3\u001b[0m \u001b[38;5;28;01mimport\u001b[39;00m \u001b[38;5;21;01mgzip\u001b[39;00m\n\u001b[1;32m      4\u001b[0m \u001b[38;5;28;01mimport\u001b[39;00m \u001b[38;5;21;01minspect\u001b[39;00m\n\u001b[1;32m      5\u001b[0m \u001b[38;5;28;01mimport\u001b[39;00m \u001b[38;5;21;01mitertools\u001b[39;00m\n",
      "File \u001b[0;32m~/.local/lib/python3.10/site-packages/networkx/utils/backends.py:967\u001b[0m, in \u001b[0;36m_dispatchable.__call__\u001b[0;34m(self, backend, *args, **kwargs)\u001b[0m\n\u001b[1;32m    965\u001b[0m     \u001b[38;5;28;01mif\u001b[39;00m backend \u001b[38;5;129;01mis\u001b[39;00m \u001b[38;5;129;01mnot\u001b[39;00m \u001b[38;5;28;01mNone\u001b[39;00m \u001b[38;5;129;01mand\u001b[39;00m backend \u001b[38;5;241m!=\u001b[39m \u001b[38;5;124m\"\u001b[39m\u001b[38;5;124mnetworkx\u001b[39m\u001b[38;5;124m\"\u001b[39m:\n\u001b[1;32m    966\u001b[0m         \u001b[38;5;28;01mraise\u001b[39;00m \u001b[38;5;167;01mImportError\u001b[39;00m(\u001b[38;5;124mf\u001b[39m\u001b[38;5;124m\"\u001b[39m\u001b[38;5;124m'\u001b[39m\u001b[38;5;132;01m{\u001b[39;00mbackend\u001b[38;5;132;01m}\u001b[39;00m\u001b[38;5;124m'\u001b[39m\u001b[38;5;124m backend is not installed\u001b[39m\u001b[38;5;124m\"\u001b[39m)\n\u001b[0;32m--> 967\u001b[0m     \u001b[38;5;28;01mreturn\u001b[39;00m \u001b[38;5;28;43mself\u001b[39;49m\u001b[38;5;241;43m.\u001b[39;49m\u001b[43morig_func\u001b[49m\u001b[43m(\u001b[49m\u001b[38;5;241;43m*\u001b[39;49m\u001b[43margs\u001b[49m\u001b[43m,\u001b[49m\u001b[43m \u001b[49m\u001b[38;5;241;43m*\u001b[39;49m\u001b[38;5;241;43m*\u001b[39;49m\u001b[43mkwargs\u001b[49m\u001b[43m)\u001b[49m\n\u001b[1;32m    969\u001b[0m \u001b[38;5;66;03m# Use `backend_name` in this function instead of `backend`.\u001b[39;00m\n\u001b[1;32m    970\u001b[0m \u001b[38;5;66;03m# This is purely for aesthetics and to make it easier to search for this\u001b[39;00m\n\u001b[1;32m    971\u001b[0m \u001b[38;5;66;03m# variable since \"backend\" is used in many comments and log/error messages.\u001b[39;00m\n\u001b[1;32m    972\u001b[0m backend_name \u001b[38;5;241m=\u001b[39m backend\n",
      "File \u001b[0;32m~/.local/lib/python3.10/site-packages/networkx/algorithms/flow/preflowpush.py:422\u001b[0m, in \u001b[0;36mpreflow_push\u001b[0;34m(G, s, t, capacity, residual, global_relabel_freq, value_only)\u001b[0m\n\u001b[1;32m    291\u001b[0m \u001b[38;5;129m@nx\u001b[39m\u001b[38;5;241m.\u001b[39m_dispatchable(edge_attrs\u001b[38;5;241m=\u001b[39m{\u001b[38;5;124m\"\u001b[39m\u001b[38;5;124mcapacity\u001b[39m\u001b[38;5;124m\"\u001b[39m: \u001b[38;5;28mfloat\u001b[39m(\u001b[38;5;124m\"\u001b[39m\u001b[38;5;124minf\u001b[39m\u001b[38;5;124m\"\u001b[39m)}, returns_graph\u001b[38;5;241m=\u001b[39m\u001b[38;5;28;01mTrue\u001b[39;00m)\n\u001b[1;32m    292\u001b[0m \u001b[38;5;28;01mdef\u001b[39;00m \u001b[38;5;21mpreflow_push\u001b[39m(\n\u001b[1;32m    293\u001b[0m     G, s, t, capacity\u001b[38;5;241m=\u001b[39m\u001b[38;5;124m\"\u001b[39m\u001b[38;5;124mcapacity\u001b[39m\u001b[38;5;124m\"\u001b[39m, residual\u001b[38;5;241m=\u001b[39m\u001b[38;5;28;01mNone\u001b[39;00m, global_relabel_freq\u001b[38;5;241m=\u001b[39m\u001b[38;5;241m1\u001b[39m, value_only\u001b[38;5;241m=\u001b[39m\u001b[38;5;28;01mFalse\u001b[39;00m\n\u001b[1;32m    294\u001b[0m ):\n\u001b[1;32m    295\u001b[0m \u001b[38;5;250m    \u001b[39m\u001b[38;5;124mr\u001b[39m\u001b[38;5;124;03m\"\"\"Find a maximum single-commodity flow using the highest-label\u001b[39;00m\n\u001b[1;32m    296\u001b[0m \u001b[38;5;124;03m    preflow-push algorithm.\u001b[39;00m\n\u001b[1;32m    297\u001b[0m \n\u001b[0;32m   (...)\u001b[0m\n\u001b[1;32m    420\u001b[0m \n\u001b[1;32m    421\u001b[0m \u001b[38;5;124;03m    \"\"\"\u001b[39;00m\n\u001b[0;32m--> 422\u001b[0m     R \u001b[38;5;241m=\u001b[39m \u001b[43mpreflow_push_impl\u001b[49m\u001b[43m(\u001b[49m\u001b[43mG\u001b[49m\u001b[43m,\u001b[49m\u001b[43m \u001b[49m\u001b[43ms\u001b[49m\u001b[43m,\u001b[49m\u001b[43m \u001b[49m\u001b[43mt\u001b[49m\u001b[43m,\u001b[49m\u001b[43m \u001b[49m\u001b[43mcapacity\u001b[49m\u001b[43m,\u001b[49m\u001b[43m \u001b[49m\u001b[43mresidual\u001b[49m\u001b[43m,\u001b[49m\u001b[43m \u001b[49m\u001b[43mglobal_relabel_freq\u001b[49m\u001b[43m,\u001b[49m\u001b[43m \u001b[49m\u001b[43mvalue_only\u001b[49m\u001b[43m)\u001b[49m\n\u001b[1;32m    423\u001b[0m     R\u001b[38;5;241m.\u001b[39mgraph[\u001b[38;5;124m\"\u001b[39m\u001b[38;5;124malgorithm\u001b[39m\u001b[38;5;124m\"\u001b[39m] \u001b[38;5;241m=\u001b[39m \u001b[38;5;124m\"\u001b[39m\u001b[38;5;124mpreflow_push\u001b[39m\u001b[38;5;124m\"\u001b[39m\n\u001b[1;32m    424\u001b[0m     nx\u001b[38;5;241m.\u001b[39m_clear_cache(R)\n",
      "File \u001b[0;32m~/.local/lib/python3.10/site-packages/networkx/algorithms/flow/preflowpush.py:27\u001b[0m, in \u001b[0;36mpreflow_push_impl\u001b[0;34m(G, s, t, capacity, residual, global_relabel_freq, value_only)\u001b[0m\n\u001b[1;32m     25\u001b[0m     \u001b[38;5;28;01mraise\u001b[39;00m nx\u001b[38;5;241m.\u001b[39mNetworkXError(\u001b[38;5;124mf\u001b[39m\u001b[38;5;124m\"\u001b[39m\u001b[38;5;124mnode \u001b[39m\u001b[38;5;132;01m{\u001b[39;00m\u001b[38;5;28mstr\u001b[39m(s)\u001b[38;5;132;01m}\u001b[39;00m\u001b[38;5;124m not in graph\u001b[39m\u001b[38;5;124m\"\u001b[39m)\n\u001b[1;32m     26\u001b[0m \u001b[38;5;28;01mif\u001b[39;00m t \u001b[38;5;129;01mnot\u001b[39;00m \u001b[38;5;129;01min\u001b[39;00m G:\n\u001b[0;32m---> 27\u001b[0m     \u001b[38;5;28;01mraise\u001b[39;00m nx\u001b[38;5;241m.\u001b[39mNetworkXError(\u001b[38;5;124mf\u001b[39m\u001b[38;5;124m\"\u001b[39m\u001b[38;5;124mnode \u001b[39m\u001b[38;5;132;01m{\u001b[39;00m\u001b[38;5;28mstr\u001b[39m(t)\u001b[38;5;132;01m}\u001b[39;00m\u001b[38;5;124m not in graph\u001b[39m\u001b[38;5;124m\"\u001b[39m)\n\u001b[1;32m     28\u001b[0m \u001b[38;5;28;01mif\u001b[39;00m s \u001b[38;5;241m==\u001b[39m t:\n\u001b[1;32m     29\u001b[0m     \u001b[38;5;28;01mraise\u001b[39;00m nx\u001b[38;5;241m.\u001b[39mNetworkXError(\u001b[38;5;124m\"\u001b[39m\u001b[38;5;124msource and sink are the same node\u001b[39m\u001b[38;5;124m\"\u001b[39m)\n",
      "\u001b[0;31mNetworkXError\u001b[0m: node 6999 not in graph"
     ]
    }
   ],
   "source": [
    "flow = nx.maximum_flow(graph,source,sink)[0]\n",
    "print(f\"Maximum flow between {source} and {sink}: {str(flow)}\")"
   ]
  },
  {
   "cell_type": "code",
   "execution_count": null,
   "metadata": {},
   "outputs": [
    {
     "name": "stdout",
     "output_type": "stream",
     "text": [
      "Found 156204 valid paths\n"
     ]
    }
   ],
   "source": [
    "lst_sources = []\n",
    "lst_sinks = []\n",
    "lst_paths = []\n",
    "sk = graph.number_of_nodes()\n",
    "for i in range(0,sk,1):\n",
    "    if can_be_source(graph, str(i)):\n",
    "        lst_sources.append(str(i))\n",
    "for i in range(sk, -1, -1):\n",
    "    if can_be_sink(graph, str(i)):\n",
    "        lst_sinks.append(str(i))\n",
    "for source in lst_sources: \n",
    "    for sink in lst_sinks:\n",
    "        if is_path_between_source_sink(graph, source, sink):\n",
    "            lst_paths.append((source, sink))\n",
    "print(f\"Found {len(lst_paths)} valid paths\")"
   ]
  },
  {
   "cell_type": "code",
   "execution_count": null,
   "metadata": {},
   "outputs": [],
   "source": [
    "for (source, sink) in lst_paths:\n",
    "    if source != sink:\n",
    "        flow = nx.maximum_flow(graph,source,sink)[0]\n",
    "        if flow > 1:\n",
    "            print(f\"Maximum flow between {source} and {sink}: {str(flow)}\")"
   ]
  },
  {
   "cell_type": "markdown",
   "metadata": {},
   "source": [
    "NORMALIZE NOTATION OF NODES IN A FILE\n",
    "\n",
    "In a graph with N nodes with random non-consecutive labels, after the preprocessing, have all nodes with consecutove labels:\n",
    "- start from node 0\n",
    "- all nodes have consecutive labels\n",
    "- the last node has a label=N-1"
   ]
  },
  {
   "cell_type": "code",
   "execution_count": null,
   "metadata": {},
   "outputs": [
    {
     "name": "stdout",
     "output_type": "stream",
     "text": [
      "# nodes: 2939\n",
      "ok, index i = 2939\n"
     ]
    }
   ],
   "source": [
    "# ifN = \"../inputs/airports_1500_dag.txt\"\n",
    "ifN = \"../inputs/airports_8000_directed.txt\"\n",
    "# ofN = \"../inputs/airports_1500_dag_normalized.txt\"\n",
    "ofN = \"../inputs/airports_8000_directed_normalized.txt\"\n",
    "\n",
    "def readList(fName):\n",
    "    fin = open(ifN, \"r\")\n",
    "    first = fin.readline()\n",
    "    lst = [-1 for i in range(10000)]\n",
    "    for line in fin:\n",
    "        vals = line.strip().split()\n",
    "        lst[int(vals[0])] = int(vals[0])\n",
    "        lst[int(vals[1])] = int(vals[1])\n",
    "    fin.close()\n",
    "    return lst\n",
    "\n",
    "lst = readList(ifN)\n",
    "cnt=0\n",
    "for i in range(10000):\n",
    "    if lst[i] != -1:\n",
    "        cnt+=1\n",
    "print(\"# nodes:\", cnt)\n",
    "\n",
    "lab = 0\n",
    "for i in range(10000):\n",
    "    if lst[i] != -1:\n",
    "        lst[i] = lab\n",
    "        lab+=1\n",
    "\n",
    "fin = open(ifN, \"r\")\n",
    "fout = open(ofN, \"w\")\n",
    "fout.write(f\"{cnt}\\n\")\n",
    "first = fin.readline()\n",
    "for line in fin:\n",
    "    vals = line.strip().split()\n",
    "    # print(lst[int(vals[0])-1], lst[int(vals[1])-1], int(vals[2]))\n",
    "    fout.write(f\"{lst[int(vals[0])]} {lst[int(vals[1])]} {int(vals[2])}\\n\")\n",
    "fin.close()\n",
    "fout.close()\n",
    "\n",
    "fin = open(ofN, \"r\")\n",
    "n_nodes = int(fin.readline())\n",
    "lst3 = [\"*\" for i in range(n_nodes)]\n",
    "for line in fin:\n",
    "    vals = line.strip().split()\n",
    "    lst3[int(vals[0])] = \"ok\"\n",
    "    lst3[int(vals[1])] = \"ok\"\n",
    "fin.close()\n",
    "\n",
    "ok = True\n",
    "i=0\n",
    "while i<cnt and ok:\n",
    "    if lst3[i] != \"ok\":\n",
    "        ok = False\n",
    "    else:\n",
    "        i+=1\n",
    "if ok:\n",
    "    print(f\"ok, index i = {i}\")\n",
    "else:\n",
    "    print(f\"not ok, index i = {i}\")\n",
    "# print(lst3)"
   ]
  }
 ],
 "metadata": {
  "kernelspec": {
   "display_name": "Python 3",
   "language": "python",
   "name": "python3"
  },
  "language_info": {
   "codemirror_mode": {
    "name": "ipython",
    "version": 3
   },
   "file_extension": ".py",
   "mimetype": "text/x-python",
   "name": "python",
   "nbconvert_exporter": "python",
   "pygments_lexer": "ipython3",
   "version": "3.10.12"
  }
 },
 "nbformat": 4,
 "nbformat_minor": 2
}
